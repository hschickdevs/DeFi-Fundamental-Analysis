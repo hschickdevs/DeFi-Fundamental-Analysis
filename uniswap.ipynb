{
 "cells": [
  {
   "cell_type": "markdown",
   "metadata": {},
   "source": [
    "## Uniswap Price Impact"
   ]
  },
  {
   "cell_type": "code",
   "execution_count": 15,
   "metadata": {},
   "outputs": [
    {
     "name": "stdout",
     "output_type": "stream",
     "text": [
      "USDbC reserve before swaps: 1030000\n",
      "WETH reserve before swaps: 203.59\n",
      "USDbC/WETH Ratio before swaps: 5059.187582887175\n"
     ]
    }
   ],
   "source": [
    "USDbC_reserve_before = 1030000\n",
    "WETH_reserve_before = 203.59\n",
    "\n",
    "print(\"USDbC reserve before swaps:\", USDbC_reserve_before)\n",
    "print(\"WETH reserve before swaps:\", WETH_reserve_before)\n",
    "\n",
    "ratio = USDbC_reserve_before / WETH_reserve_before\n",
    "print(\"USDbC/WETH Ratio before swaps:\", ratio)"
   ]
  },
  {
   "cell_type": "code",
   "execution_count": 16,
   "metadata": {},
   "outputs": [
    {
     "data": {
      "text/plain": [
       "209697700.0"
      ]
     },
     "execution_count": 16,
     "metadata": {},
     "output_type": "execute_result"
    }
   ],
   "source": [
    "constant_product = USDbC_reserve_before * WETH_reserve_before\n",
    "constant_product"
   ]
  },
  {
   "cell_type": "markdown",
   "metadata": {},
   "source": [
    "#### Swap $200,000 in USDbC for WETH:"
   ]
  },
  {
   "cell_type": "code",
   "execution_count": 17,
   "metadata": {},
   "outputs": [
    {
     "name": "stdout",
     "output_type": "stream",
     "text": [
      "USDbC reserve after swap:  1230000\n",
      "WETH reserve after swap:  170.4859349593496\n",
      "USDbC/WETH Ratio after swap: 7214.671405551896\n"
     ]
    }
   ],
   "source": [
    "USDbC_reserve_after = USDbC_reserve_before + 200000\n",
    "WETH_reserve_after = constant_product / USDbC_reserve_after\n",
    "\n",
    "print(\"USDbC reserve after swap: \", USDbC_reserve_after)\n",
    "print(\"WETH reserve after swap: \", WETH_reserve_after)\n",
    "\n",
    "resulting_ratio = USDbC_reserve_after / WETH_reserve_after\n",
    "print(\"USDbC/WETH Ratio after swap:\", resulting_ratio)"
   ]
  },
  {
   "cell_type": "code",
   "execution_count": 18,
   "metadata": {},
   "outputs": [
    {
     "name": "stdout",
     "output_type": "stream",
     "text": [
      "0.42605335092845675 7214.671405551896 5059.187582887175\n"
     ]
    },
    {
     "data": {
      "text/plain": [
       "0.42605335092845675"
      ]
     },
     "execution_count": 18,
     "metadata": {},
     "output_type": "execute_result"
    }
   ],
   "source": [
    "price_impact = (resulting_ratio / ratio) - 1\n",
    "print(price_impact, resulting_ratio, ratio)\n",
    "price_impact"
   ]
  }
 ],
 "metadata": {
  "kernelspec": {
   "display_name": "Python 3",
   "language": "python",
   "name": "python3"
  },
  "language_info": {
   "codemirror_mode": {
    "name": "ipython",
    "version": 3
   },
   "file_extension": ".py",
   "mimetype": "text/x-python",
   "name": "python",
   "nbconvert_exporter": "python",
   "pygments_lexer": "ipython3",
   "version": "3.9.12"
  }
 },
 "nbformat": 4,
 "nbformat_minor": 2
}
